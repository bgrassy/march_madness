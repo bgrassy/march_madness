{
 "cells": [
  {
   "cell_type": "markdown",
   "metadata": {},
   "source": [
    "# Introduction\n",
    "\n",
    "Every spring, [Kaggle](https://www.kaggle.com/), a website focused on data science competitions, runs a \"March Machine Learning Madness\" contest. As is implied by the title, the aim of the contest is to make the best prediction of the results of the NCAA Division I Men's Basketball Tournament. This last year was my first attempt at the competition; unfortunately, due to an error in my program that was left unnoticed, I did not do as well as I had hoped. I was hoping to write this up a long time ago, however, I was unable to due to various school and work commitments. This first part focuses on the advanced metrics and statistics that I used to make my predictions, as well as the initial steps of consolidating and parsing the data.\n",
    "\n",
    "# First Steps"
   ]
  },
  {
   "cell_type": "code",
   "execution_count": 1,
   "metadata": {
    "collapsed": true
   },
   "outputs": [],
   "source": [
    "import numpy as np\n",
    "import pandas as pd\n",
    "import random, math\n",
    "import seaborn as sns\n",
    "import matplotlib.pyplot as plt\n",
    "%matplotlib inline"
   ]
  },
  {
   "cell_type": "markdown",
   "metadata": {},
   "source": [
    "After importing the basic foundational modules for the program, we can now define the essential variables. These next two dictionaries will store the ELO ratings and statistics for all the teams."
   ]
  },
  {
   "cell_type": "code",
   "execution_count": 2,
   "metadata": {
    "collapsed": true
   },
   "outputs": [],
   "source": [
    "team_elos = {}\n",
    "team_stats = {}"
   ]
  },
  {
   "cell_type": "markdown",
   "metadata": {},
   "source": [
    "Now we can import our data. We will want to use Kaggle's \"detailed\" results, which will give us access to more advanced statistics, which we will eventually use to create aggregate and averaged statistics."
   ]
  },
  {
   "cell_type": "code",
   "execution_count": 3,
   "metadata": {
    "scrolled": true
   },
   "outputs": [
    {
     "data": {
      "text/html": [
       "<div>\n",
       "<style>\n",
       "    .dataframe thead tr:only-child th {\n",
       "        text-align: right;\n",
       "    }\n",
       "\n",
       "    .dataframe thead th {\n",
       "        text-align: left;\n",
       "    }\n",
       "\n",
       "    .dataframe tbody tr th {\n",
       "        vertical-align: top;\n",
       "    }\n",
       "</style>\n",
       "<table border=\"1\" class=\"dataframe\">\n",
       "  <thead>\n",
       "    <tr style=\"text-align: right;\">\n",
       "      <th></th>\n",
       "      <th>Season</th>\n",
       "      <th>Daynum</th>\n",
       "      <th>Wteam</th>\n",
       "      <th>Wscore</th>\n",
       "      <th>Lteam</th>\n",
       "      <th>Lscore</th>\n",
       "      <th>Wloc</th>\n",
       "      <th>Numot</th>\n",
       "      <th>Wfgm</th>\n",
       "      <th>Wfga</th>\n",
       "      <th>...</th>\n",
       "      <th>Lfga3</th>\n",
       "      <th>Lftm</th>\n",
       "      <th>Lfta</th>\n",
       "      <th>Lor</th>\n",
       "      <th>Ldr</th>\n",
       "      <th>Last</th>\n",
       "      <th>Lto</th>\n",
       "      <th>Lstl</th>\n",
       "      <th>Lblk</th>\n",
       "      <th>Lpf</th>\n",
       "    </tr>\n",
       "  </thead>\n",
       "  <tbody>\n",
       "    <tr>\n",
       "      <th>0</th>\n",
       "      <td>2003</td>\n",
       "      <td>10</td>\n",
       "      <td>1104</td>\n",
       "      <td>68</td>\n",
       "      <td>1328</td>\n",
       "      <td>62</td>\n",
       "      <td>N</td>\n",
       "      <td>0</td>\n",
       "      <td>27</td>\n",
       "      <td>58</td>\n",
       "      <td>...</td>\n",
       "      <td>10</td>\n",
       "      <td>16</td>\n",
       "      <td>22</td>\n",
       "      <td>10</td>\n",
       "      <td>22</td>\n",
       "      <td>8</td>\n",
       "      <td>18</td>\n",
       "      <td>9</td>\n",
       "      <td>2</td>\n",
       "      <td>20</td>\n",
       "    </tr>\n",
       "    <tr>\n",
       "      <th>1</th>\n",
       "      <td>2003</td>\n",
       "      <td>10</td>\n",
       "      <td>1272</td>\n",
       "      <td>70</td>\n",
       "      <td>1393</td>\n",
       "      <td>63</td>\n",
       "      <td>N</td>\n",
       "      <td>0</td>\n",
       "      <td>26</td>\n",
       "      <td>62</td>\n",
       "      <td>...</td>\n",
       "      <td>24</td>\n",
       "      <td>9</td>\n",
       "      <td>20</td>\n",
       "      <td>20</td>\n",
       "      <td>25</td>\n",
       "      <td>7</td>\n",
       "      <td>12</td>\n",
       "      <td>8</td>\n",
       "      <td>6</td>\n",
       "      <td>16</td>\n",
       "    </tr>\n",
       "    <tr>\n",
       "      <th>2</th>\n",
       "      <td>2003</td>\n",
       "      <td>11</td>\n",
       "      <td>1266</td>\n",
       "      <td>73</td>\n",
       "      <td>1437</td>\n",
       "      <td>61</td>\n",
       "      <td>N</td>\n",
       "      <td>0</td>\n",
       "      <td>24</td>\n",
       "      <td>58</td>\n",
       "      <td>...</td>\n",
       "      <td>26</td>\n",
       "      <td>14</td>\n",
       "      <td>23</td>\n",
       "      <td>31</td>\n",
       "      <td>22</td>\n",
       "      <td>9</td>\n",
       "      <td>12</td>\n",
       "      <td>2</td>\n",
       "      <td>5</td>\n",
       "      <td>23</td>\n",
       "    </tr>\n",
       "    <tr>\n",
       "      <th>3</th>\n",
       "      <td>2003</td>\n",
       "      <td>11</td>\n",
       "      <td>1296</td>\n",
       "      <td>56</td>\n",
       "      <td>1457</td>\n",
       "      <td>50</td>\n",
       "      <td>N</td>\n",
       "      <td>0</td>\n",
       "      <td>18</td>\n",
       "      <td>38</td>\n",
       "      <td>...</td>\n",
       "      <td>22</td>\n",
       "      <td>8</td>\n",
       "      <td>15</td>\n",
       "      <td>17</td>\n",
       "      <td>20</td>\n",
       "      <td>9</td>\n",
       "      <td>19</td>\n",
       "      <td>4</td>\n",
       "      <td>3</td>\n",
       "      <td>23</td>\n",
       "    </tr>\n",
       "    <tr>\n",
       "      <th>4</th>\n",
       "      <td>2003</td>\n",
       "      <td>11</td>\n",
       "      <td>1400</td>\n",
       "      <td>77</td>\n",
       "      <td>1208</td>\n",
       "      <td>71</td>\n",
       "      <td>N</td>\n",
       "      <td>0</td>\n",
       "      <td>30</td>\n",
       "      <td>61</td>\n",
       "      <td>...</td>\n",
       "      <td>16</td>\n",
       "      <td>17</td>\n",
       "      <td>27</td>\n",
       "      <td>21</td>\n",
       "      <td>15</td>\n",
       "      <td>12</td>\n",
       "      <td>10</td>\n",
       "      <td>7</td>\n",
       "      <td>1</td>\n",
       "      <td>14</td>\n",
       "    </tr>\n",
       "  </tbody>\n",
       "</table>\n",
       "<p>5 rows × 34 columns</p>\n",
       "</div>"
      ],
      "text/plain": [
       "   Season  Daynum  Wteam  Wscore  Lteam  Lscore Wloc  Numot  Wfgm  Wfga ...   \\\n",
       "0    2003      10   1104      68   1328      62    N      0    27    58 ...    \n",
       "1    2003      10   1272      70   1393      63    N      0    26    62 ...    \n",
       "2    2003      11   1266      73   1437      61    N      0    24    58 ...    \n",
       "3    2003      11   1296      56   1457      50    N      0    18    38 ...    \n",
       "4    2003      11   1400      77   1208      71    N      0    30    61 ...    \n",
       "\n",
       "   Lfga3  Lftm  Lfta  Lor  Ldr  Last  Lto  Lstl  Lblk  Lpf  \n",
       "0     10    16    22   10   22     8   18     9     2   20  \n",
       "1     24     9    20   20   25     7   12     8     6   16  \n",
       "2     26    14    23   31   22     9   12     2     5   23  \n",
       "3     22     8    15   17   20     9   19     4     3   23  \n",
       "4     16    17    27   21   15    12   10     7     1   14  \n",
       "\n",
       "[5 rows x 34 columns]"
      ]
     },
     "execution_count": 3,
     "metadata": {},
     "output_type": "execute_result"
    }
   ],
   "source": [
    "df = pd.read_csv(\"data/RegularSeasonDetailedResults.csv\")\n",
    "df.head()"
   ]
  },
  {
   "cell_type": "markdown",
   "metadata": {},
   "source": [
    "We have a few specific columns of this dataframe that are particularly relevant to this analysis. Let's print out the column names to observe."
   ]
  },
  {
   "cell_type": "code",
   "execution_count": 4,
   "metadata": {},
   "outputs": [
    {
     "data": {
      "text/plain": [
       "Index(['Season', 'Daynum', 'Wteam', 'Wscore', 'Lteam', 'Lscore', 'Wloc',\n",
       "       'Numot', 'Wfgm', 'Wfga', 'Wfgm3', 'Wfga3', 'Wftm', 'Wfta', 'Wor', 'Wdr',\n",
       "       'Wast', 'Wto', 'Wstl', 'Wblk', 'Wpf', 'Lfgm', 'Lfga', 'Lfgm3', 'Lfga3',\n",
       "       'Lftm', 'Lfta', 'Lor', 'Ldr', 'Last', 'Lto', 'Lstl', 'Lblk', 'Lpf'],\n",
       "      dtype='object')"
      ]
     },
     "execution_count": 4,
     "metadata": {},
     "output_type": "execute_result"
    }
   ],
   "source": [
    "df.columns"
   ]
  },
  {
   "cell_type": "markdown",
   "metadata": {},
   "source": [
    "As can be seen, the majority of the columns in here correspond to stats, formatted with either \"W\" or \"L\" before the stat's name. Let's construct a list to hold the un-modified versions of the stats."
   ]
  },
  {
   "cell_type": "code",
   "execution_count": 5,
   "metadata": {
    "collapsed": true
   },
   "outputs": [],
   "source": [
    "stats = [\"fgm\", \"fga\", \"fgm3\", \"fga3\", \"ftm\", \"fta\", \"or\", \"dr\", \"ast\", \"to\", \"stl\", \"blk\", \"pf\"]"
   ]
  },
  {
   "cell_type": "markdown",
   "metadata": {},
   "source": [
    "The eventual goal with these statistics is to calculate averaged values over a certain time-frame before every game. This would provide us with a way of determining the current performance for the team, which will eventually be used in the actual regression. Before we do so, however, we can construct more aggregate statistcs that can be used as a more comprehensive indicator of performance."
   ]
  },
  {
   "cell_type": "markdown",
   "metadata": {},
   "source": [
    "# Advanced Statistics"
   ]
  },
  {
   "cell_type": "markdown",
   "metadata": {},
   "source": [
    "### Effective Field Goal Percentage"
   ]
  },
  {
   "cell_type": "markdown",
   "metadata": {},
   "source": [
    "The first non-trivial statistic which I will be using is \"effective field goal percentage\", which I may also refer to as \"eFG%\". Effective field goal percentage combats one of the major pitfals of standard measures for measuring shooting, accounting for the added difficulty and possible reward of shooting three-pointers. EFG% is calculated like so:\n",
    "\n",
    "$$\\text{eFG}\\% = \\frac{\\text{FGM} + 0.5 \\cdot \\text{3FGM}}{\\text{FGA}}$$\n",
    "\n",
    "For example, suppose that we have two teams. Team 1 has attempted 10 two-pointers, completing 6 of them. Team 2 has attempted 6 two-pointers, making 4, and 4 two-pointers, making 2. Both teams have attempted ten shots and completed ten of them, resulting in a field goal percentage of 60 percent for both. However, observe what happens when we calculate the eFG% for both:\n",
    "\n",
    "$$\\text{Team 1 eFG}\\% = \\frac{6 + 0.5 \\cdot 0}{10} = 60\\%$$\n",
    "\n",
    "$$\\text{Team 2 eFG}\\% = \\frac{6 + 0.5 \\cdot 2}{10} = 70\\%$$\n",
    "\n",
    "As can be seen, even though both teams have the same field goal percentage, Team 2 would have a higher effective field goal percentage due to their additional three-point shooting. This more accurately represents their superior shooting as a whole. \n",
    "\n",
    "Our implementation of this in python is simple. Using parameters from the stats list given above, we can define the following function to compute eFG%."
   ]
  },
  {
   "cell_type": "code",
   "execution_count": 6,
   "metadata": {
    "collapsed": true
   },
   "outputs": [],
   "source": [
    "def efg(fgm, fgm3, fga):\n",
    "    return(fgm + 0.5 * fgm3) / fga"
   ]
  },
  {
   "cell_type": "markdown",
   "metadata": {},
   "source": [
    "Let's plug in the numbers that we calculated earlier to make sure it works."
   ]
  },
  {
   "cell_type": "code",
   "execution_count": 7,
   "metadata": {},
   "outputs": [
    {
     "data": {
      "text/plain": [
       "0.6"
      ]
     },
     "execution_count": 7,
     "metadata": {},
     "output_type": "execute_result"
    }
   ],
   "source": [
    "efg(6, 0, 10)"
   ]
  },
  {
   "cell_type": "code",
   "execution_count": 8,
   "metadata": {},
   "outputs": [
    {
     "data": {
      "text/plain": [
       "0.7"
      ]
     },
     "execution_count": 8,
     "metadata": {},
     "output_type": "execute_result"
    }
   ],
   "source": [
    "efg(6, 2, 10)"
   ]
  },
  {
   "cell_type": "markdown",
   "metadata": {},
   "source": [
    "As can be seen, this gives the proper results."
   ]
  },
  {
   "cell_type": "markdown",
   "metadata": {},
   "source": [
    "### Pace"
   ]
  },
  {
   "cell_type": "markdown",
   "metadata": {},
   "source": [
    "Pace is a measure of the speed of a game, which correlates to the number of possessions by a team in a game. The basic methodology for finding this is rather simple; just sum up the possessions of both the teams. However, in practice, it's a bit more complicated, as it has to account for overtimes. First of all, however, notice that there is no column for possessions in the table. As such, we have to find a way to estimate possessions. To do so, I will use an estimate from [this][pace] website, which is as follows:\n",
    "[pace]: https://captaincalculator.com/sports/basketball/pace-factor-calculator/\n",
    "\n",
    "$$\\text{Possessions} = \\text{FGA} + 0.4 \\cdot \\text{FTA} - 1.07 \\cdot (\\frac{\\text{ORB}}{\\text{ORB} + \\text{Opp DRB}}) \\cdot (\\text{FGA} - \\text{FG}) + \\text{TOV}$$\n",
    "\n",
    "Ideally, we want to average out the possessions of both teams to get a more accurate representation. Let's quickly define a function that calculates this so we can use it later."
   ]
  },
  {
   "cell_type": "code",
   "execution_count": 9,
   "metadata": {
    "collapsed": true
   },
   "outputs": [],
   "source": [
    "def possessions(fga, fg, fta, to, orb, opp_drb):\n",
    "    return (fga + 0.4 * fta - 1.07 * (orb / (orb + opp_drb)) * (fga - fg) + to)"
   ]
  },
  {
   "cell_type": "markdown",
   "metadata": {},
   "source": [
    "Now that we have this, we can provide a more formal definition of pace, which is\n",
    "\n",
    "$$\\text{Pace} = 40 \\cdot \\frac{\\text{Tm Possessions} + \\text{Opp Possessions}}{2 \\cdot \\text{Game Length}}$$\n",
    "\n",
    "Observe that the game length is not necessarily 40 minutes at all times; there can be additional five-minute overtimes. Thus, we need to take this into account when writing the function for it, and pass the number of overtimes as a parameter. We thus have:"
   ]
  },
  {
   "cell_type": "code",
   "execution_count": 10,
   "metadata": {
    "collapsed": true
   },
   "outputs": [],
   "source": [
    "def pace(poss, opp_poss, ots):\n",
    "    return 40 * (poss + opp_poss)/(2 * (40 + 5 * ots))"
   ]
  },
  {
   "cell_type": "markdown",
   "metadata": {},
   "source": [
    "### Offensive and Defensive Ratings\n",
    "\n",
    "The final sabermetric stats that I will include in my analysis are the offensive and defensive ratings. These stats are both very simple: simply the number of points scored or given up in 100 possessions, like so:\n",
    "\n",
    "$$\\text{Offensive Rating} = 100 \\cdot \\frac{\\text{Points Scored}}{\\text{Possessions}}$$\n",
    "\n",
    "$$\\text{Defensive Rating} = 100 \\cdot \\frac{\\text{Points Scored}}{\\text{Opp Possessions}}$$\n",
    "\n",
    "For the sake of this project, I will simply define one rating function that can take either offensive or defensive points and possessions."
   ]
  },
  {
   "cell_type": "code",
   "execution_count": 11,
   "metadata": {
    "collapsed": true
   },
   "outputs": [],
   "source": [
    "def rating(pts, poss):\n",
    "    return 100 * (pts / poss)"
   ]
  },
  {
   "cell_type": "markdown",
   "metadata": {},
   "source": [
    "### ELO Ratings\n",
    "\n",
    "Our final measure of overall team performance will be an ELO rating system, similar to the one used in competitive chess. The basic structure of the ratings are simple: the higher the rating, the better. In addition, the predicted win expectancy depends on the difference between the ELOs of the two teams. After each game, the ELO ratings are updated, with the winner's rating increasing by a certain amount and the loser's decreasing by that same amount, which is higher based on the difference between the initial ratings. In addition, the formula also contains a constant known as the \"K-Factor\", which controls how responsive the ratings are to wins and losses. From [this][elo] website, I took the K-factor to be equal to 20, which is the optimal number for the NBA. From this, I defined the ELO rating calculation function to be:\n",
    "\n",
    "[elo]: https://fivethirtyeight.com/features/how-we-calculate-nba-elo-ratings/"
   ]
  },
  {
   "cell_type": "code",
   "execution_count": 12,
   "metadata": {
    "collapsed": true
   },
   "outputs": [],
   "source": [
    "def calc_elo(winner, loser):\n",
    "    rank_diff = winner - loser\n",
    "    # Calculates the win expectancy.\n",
    "    exp = (rank_diff * -1) / 400\n",
    "    odds = 1 / (1 + math.pow(10, exp))\n",
    "    k = 20\n",
    "    new_winner_rank = round(winner + (k * (1 - odds)))\n",
    "    new_rank_diff = new_winner_rank - winner\n",
    "    new_loser_rank = loser - new_rank_diff\n",
    "    return new_winner_rank, new_loser_rank"
   ]
  },
  {
   "cell_type": "markdown",
   "metadata": {},
   "source": [
    "If you would like to play around with sample numbers for the ELO calculator, I have made the following widget below so you can see what happens with various starting ELOs."
   ]
  },
  {
   "cell_type": "code",
   "execution_count": 13,
   "metadata": {},
   "outputs": [
    {
     "data": {
      "application/vnd.jupyter.widget-view+json": {
       "model_id": "3046706ee6e64d47931025a5de8e0d59"
      }
     },
     "metadata": {},
     "output_type": "display_data"
    },
    {
     "data": {
      "application/vnd.jupyter.widget-view+json": {
       "model_id": "7647fe9ce13547f39e4e5e04e98fef19"
      }
     },
     "metadata": {},
     "output_type": "display_data"
    },
    {
     "data": {
      "application/vnd.jupyter.widget-view+json": {
       "model_id": "72465d84393943f185d21d78d7fff426"
      }
     },
     "metadata": {},
     "output_type": "display_data"
    }
   ],
   "source": [
    "from ipywidgets import widgets\n",
    "input1 = widgets.Text(description=\"Team 1 Elo: \")\n",
    "input2 = widgets.Text(description = \"Team 2 Elo: \")\n",
    "button = widgets.Button(description=\"Submit\")\n",
    "display(input1)\n",
    "display(input2)\n",
    "display(button)\n",
    "def func(sender):\n",
    "    if input1.value.isdigit() and input2.value.isdigit():\n",
    "        elo_1 = int(input1.value)\n",
    "        elo_2 = int(input2.value)\n",
    "        if abs(elo_1 - elo_2) > 123301:\n",
    "            return\n",
    "        values = calc_elo(elo_1, elo_2)\n",
    "        input1.value = str(values[0])\n",
    "        input2.value = str(values[1])\n",
    "\n",
    "button.on_click(func)"
   ]
  },
  {
   "cell_type": "markdown",
   "metadata": {
    "collapsed": true
   },
   "source": [
    "# Initializing Data\n",
    "\n",
    "Now that we have the definitions for all of our statistics, we can now move on to calculating them for every game. To start off with, let's remind ourselves of our current statistics list:"
   ]
  },
  {
   "cell_type": "code",
   "execution_count": 14,
   "metadata": {},
   "outputs": [
    {
     "name": "stdout",
     "output_type": "stream",
     "text": [
      "['fgm', 'fga', 'fgm3', 'fga3', 'ftm', 'fta', 'or', 'dr', 'ast', 'to', 'stl', 'blk', 'pf']\n"
     ]
    }
   ],
   "source": [
    "print(stats)"
   ]
  },
  {
   "cell_type": "markdown",
   "metadata": {},
   "source": [
    "We need to add the sabermetric statistics to the list for each row now. Let's define a list of these statistics and generate them."
   ]
  },
  {
   "cell_type": "code",
   "execution_count": 15,
   "metadata": {},
   "outputs": [
    {
     "data": {
      "text/plain": [
       "Index(['Season', 'Daynum', 'Wteam', 'Wscore', 'Lteam', 'Lscore', 'Wloc',\n",
       "       'Numot', 'Wfgm', 'Wfga', 'Wfgm3', 'Wfga3', 'Wftm', 'Wfta', 'Wor', 'Wdr',\n",
       "       'Wast', 'Wto', 'Wstl', 'Wblk', 'Wpf', 'Lfgm', 'Lfga', 'Lfgm3', 'Lfga3',\n",
       "       'Lftm', 'Lfta', 'Lor', 'Ldr', 'Last', 'Lto', 'Lstl', 'Lblk', 'Lpf',\n",
       "       'Wefg', 'Wortg', 'Wdrtg', 'Wpace', 'Lefg', 'Lortg', 'Ldrtg', 'Lpace'],\n",
       "      dtype='object')"
      ]
     },
     "execution_count": 15,
     "metadata": {},
     "output_type": "execute_result"
    }
   ],
   "source": [
    "sabermetrics = [\"efg\", \"ortg\", \"drtg\", \"pace\"]\n",
    "for letter in [\"W\", \"L\"]:\n",
    "    for stat in sabermetrics:\n",
    "        df[letter + stat] = 0\n",
    "df.columns"
   ]
  },
  {
   "cell_type": "markdown",
   "metadata": {},
   "source": [
    "As can be seen, we have now initialized all of the columns for the advanced statistics (including possessions for ease of future access). We now need to calculate these statistics for every row. To do so, let's loop through all the rows in the dataframe, calculate the statistics for each, and store them in the corresponding row of the dataframe."
   ]
  },
  {
   "cell_type": "code",
   "execution_count": 16,
   "metadata": {},
   "outputs": [],
   "source": [
    "for index, row in df.iterrows():\n",
    "    ots = row[\"Numot\"]\n",
    "    letters = [\"W\", \"L\"]\n",
    "    poss_list = []\n",
    "    for num in range(2):\n",
    "        letter = letters[num]\n",
    "        fga = row[letter + \"fga\"]\n",
    "        fgm = row[letter + \"fgm\"]\n",
    "        fgm3 = row[letter + \"fgm3\"]\n",
    "        fta = row[letter + \"fta\"]\n",
    "        to = row[letter + \"to\"]\n",
    "        orb = row[letter + \"or\"]\n",
    "        opp_drb = row[letters[(num + 1) % 2] + \"dr\"]\n",
    "        # Calculate stats and place them in list\n",
    "        poss = possessions(fga, fgm, fta, to, orb, opp_drb)\n",
    "        poss_list.append(poss)\n",
    "        df.loc[index, letter + \"efg\"] = efg(fgm, fgm3, fga)\n",
    "    avg_poss = sum(poss_list) / 2\n",
    "    for letter in letters:\n",
    "        score = row[letter + \"score\"]\n",
    "        opp_score = opp_drb = row[letters[(num + 1) % 2] + \"score\"]\n",
    "        df.loc[index, letter + \"ortg\"] = rating(score, avg_poss)\n",
    "        df.loc[index, letter + \"drtg\"] = rating(opp_score, avg_poss)\n",
    "        df.loc[index, letter + \"pace\"] = pace(avg_poss, avg_poss, ots)"
   ]
  },
  {
   "cell_type": "code",
   "execution_count": 17,
   "metadata": {},
   "outputs": [
    {
     "data": {
      "text/html": [
       "<div>\n",
       "<style>\n",
       "    .dataframe thead tr:only-child th {\n",
       "        text-align: right;\n",
       "    }\n",
       "\n",
       "    .dataframe thead th {\n",
       "        text-align: left;\n",
       "    }\n",
       "\n",
       "    .dataframe tbody tr th {\n",
       "        vertical-align: top;\n",
       "    }\n",
       "</style>\n",
       "<table border=\"1\" class=\"dataframe\">\n",
       "  <thead>\n",
       "    <tr style=\"text-align: right;\">\n",
       "      <th></th>\n",
       "      <th>Season</th>\n",
       "      <th>Daynum</th>\n",
       "      <th>Wteam</th>\n",
       "      <th>Wscore</th>\n",
       "      <th>Lteam</th>\n",
       "      <th>Lscore</th>\n",
       "      <th>Wloc</th>\n",
       "      <th>Numot</th>\n",
       "      <th>Wfgm</th>\n",
       "      <th>Wfga</th>\n",
       "      <th>...</th>\n",
       "      <th>Lblk</th>\n",
       "      <th>Lpf</th>\n",
       "      <th>Wefg</th>\n",
       "      <th>Wortg</th>\n",
       "      <th>Wdrtg</th>\n",
       "      <th>Wpace</th>\n",
       "      <th>Lefg</th>\n",
       "      <th>Lortg</th>\n",
       "      <th>Ldrtg</th>\n",
       "      <th>Lpace</th>\n",
       "    </tr>\n",
       "  </thead>\n",
       "  <tbody>\n",
       "    <tr>\n",
       "      <th>0</th>\n",
       "      <td>2003</td>\n",
       "      <td>10</td>\n",
       "      <td>1104</td>\n",
       "      <td>68</td>\n",
       "      <td>1328</td>\n",
       "      <td>62</td>\n",
       "      <td>N</td>\n",
       "      <td>0</td>\n",
       "      <td>27</td>\n",
       "      <td>58</td>\n",
       "      <td>...</td>\n",
       "      <td>2</td>\n",
       "      <td>20</td>\n",
       "      <td>0.491379</td>\n",
       "      <td>93.570681</td>\n",
       "      <td>93.570681</td>\n",
       "      <td>72.672337</td>\n",
       "      <td>0.433962</td>\n",
       "      <td>85.314444</td>\n",
       "      <td>93.570681</td>\n",
       "      <td>72.672337</td>\n",
       "    </tr>\n",
       "    <tr>\n",
       "      <th>1</th>\n",
       "      <td>2003</td>\n",
       "      <td>10</td>\n",
       "      <td>1272</td>\n",
       "      <td>70</td>\n",
       "      <td>1393</td>\n",
       "      <td>63</td>\n",
       "      <td>N</td>\n",
       "      <td>0</td>\n",
       "      <td>26</td>\n",
       "      <td>62</td>\n",
       "      <td>...</td>\n",
       "      <td>6</td>\n",
       "      <td>16</td>\n",
       "      <td>0.483871</td>\n",
       "      <td>102.953162</td>\n",
       "      <td>102.953162</td>\n",
       "      <td>67.992083</td>\n",
       "      <td>0.402985</td>\n",
       "      <td>92.657846</td>\n",
       "      <td>102.953162</td>\n",
       "      <td>67.992083</td>\n",
       "    </tr>\n",
       "    <tr>\n",
       "      <th>2</th>\n",
       "      <td>2003</td>\n",
       "      <td>11</td>\n",
       "      <td>1266</td>\n",
       "      <td>73</td>\n",
       "      <td>1437</td>\n",
       "      <td>61</td>\n",
       "      <td>N</td>\n",
       "      <td>0</td>\n",
       "      <td>24</td>\n",
       "      <td>58</td>\n",
       "      <td>...</td>\n",
       "      <td>5</td>\n",
       "      <td>23</td>\n",
       "      <td>0.482759</td>\n",
       "      <td>113.828058</td>\n",
       "      <td>113.828058</td>\n",
       "      <td>64.131815</td>\n",
       "      <td>0.321918</td>\n",
       "      <td>95.116597</td>\n",
       "      <td>113.828058</td>\n",
       "      <td>64.131815</td>\n",
       "    </tr>\n",
       "    <tr>\n",
       "      <th>3</th>\n",
       "      <td>2003</td>\n",
       "      <td>11</td>\n",
       "      <td>1296</td>\n",
       "      <td>56</td>\n",
       "      <td>1457</td>\n",
       "      <td>50</td>\n",
       "      <td>N</td>\n",
       "      <td>0</td>\n",
       "      <td>18</td>\n",
       "      <td>38</td>\n",
       "      <td>...</td>\n",
       "      <td>3</td>\n",
       "      <td>23</td>\n",
       "      <td>0.513158</td>\n",
       "      <td>96.720211</td>\n",
       "      <td>96.720211</td>\n",
       "      <td>57.898964</td>\n",
       "      <td>0.428571</td>\n",
       "      <td>86.357332</td>\n",
       "      <td>96.720211</td>\n",
       "      <td>57.898964</td>\n",
       "    </tr>\n",
       "    <tr>\n",
       "      <th>4</th>\n",
       "      <td>2003</td>\n",
       "      <td>11</td>\n",
       "      <td>1400</td>\n",
       "      <td>77</td>\n",
       "      <td>1208</td>\n",
       "      <td>71</td>\n",
       "      <td>N</td>\n",
       "      <td>0</td>\n",
       "      <td>30</td>\n",
       "      <td>61</td>\n",
       "      <td>...</td>\n",
       "      <td>1</td>\n",
       "      <td>14</td>\n",
       "      <td>0.540984</td>\n",
       "      <td>122.688411</td>\n",
       "      <td>122.688411</td>\n",
       "      <td>62.760614</td>\n",
       "      <td>0.435484</td>\n",
       "      <td>113.128275</td>\n",
       "      <td>122.688411</td>\n",
       "      <td>62.760614</td>\n",
       "    </tr>\n",
       "  </tbody>\n",
       "</table>\n",
       "<p>5 rows × 42 columns</p>\n",
       "</div>"
      ],
      "text/plain": [
       "   Season  Daynum  Wteam  Wscore  Lteam  Lscore Wloc  Numot  Wfgm  Wfga  \\\n",
       "0    2003      10   1104      68   1328      62    N      0    27    58   \n",
       "1    2003      10   1272      70   1393      63    N      0    26    62   \n",
       "2    2003      11   1266      73   1437      61    N      0    24    58   \n",
       "3    2003      11   1296      56   1457      50    N      0    18    38   \n",
       "4    2003      11   1400      77   1208      71    N      0    30    61   \n",
       "\n",
       "     ...      Lblk  Lpf      Wefg       Wortg       Wdrtg      Wpace  \\\n",
       "0    ...         2   20  0.491379   93.570681   93.570681  72.672337   \n",
       "1    ...         6   16  0.483871  102.953162  102.953162  67.992083   \n",
       "2    ...         5   23  0.482759  113.828058  113.828058  64.131815   \n",
       "3    ...         3   23  0.513158   96.720211   96.720211  57.898964   \n",
       "4    ...         1   14  0.540984  122.688411  122.688411  62.760614   \n",
       "\n",
       "       Lefg       Lortg       Ldrtg      Lpace  \n",
       "0  0.433962   85.314444   93.570681  72.672337  \n",
       "1  0.402985   92.657846  102.953162  67.992083  \n",
       "2  0.321918   95.116597  113.828058  64.131815  \n",
       "3  0.428571   86.357332   96.720211  57.898964  \n",
       "4  0.435484  113.128275  122.688411  62.760614  \n",
       "\n",
       "[5 rows x 42 columns]"
      ]
     },
     "execution_count": 17,
     "metadata": {},
     "output_type": "execute_result"
    }
   ],
   "source": [
    "df.head()"
   ]
  },
  {
   "cell_type": "markdown",
   "metadata": {
    "collapsed": true
   },
   "source": [
    "As can be seen, we now have calculated all of the various sabermetric ratings for every team at every game. Our next official step is going to be to set the ELOs. However, before doing so, we need to initialize the columns in the data for the average statistics. Let's just do so quickly:"
   ]
  },
  {
   "cell_type": "code",
   "execution_count": 18,
   "metadata": {
    "collapsed": true
   },
   "outputs": [],
   "source": [
    "all_stats = stats + sabermetrics + [\"elo\"]\n",
    "for letter in [\"W\", \"L\"]:\n",
    "    for stat in all_stats:\n",
    "        if stat != \"elo\":\n",
    "            stat = stat + \"Avg\"\n",
    "        df[letter + stat] = 0    "
   ]
  },
  {
   "cell_type": "markdown",
   "metadata": {},
   "source": [
    "Now that we have that all finished, we can set the elos. We want our default elo rating to be 1500. Now, we have two other cases: there exists elo data for the previous game, or it is the first game of the new season and data exists for the season before. If there exists data for the current season, we can just take this for our initial value in our elo calculation. This needs to be tweaked if it is the start of a new season; as a result, I will scale the data in a way that keeps the data centered roughly around 1500, while still relying partially on the performance of the previous season. We thus need to write an accessor method for this. First, recall that at the start of our program we defined a \"team_elos\" dictionary; we will use this to store all of our values. "
   ]
  },
  {
   "cell_type": "code",
   "execution_count": 19,
   "metadata": {
    "collapsed": true
   },
   "outputs": [],
   "source": [
    "for season in range(2003, 2018):\n",
    "    team_elos[season] = {}"
   ]
  },
  {
   "cell_type": "code",
   "execution_count": 20,
   "metadata": {
    "collapsed": true
   },
   "outputs": [],
   "source": [
    "def get_elo(season, team):\n",
    "    try:\n",
    "        return team_elos[season][team]\n",
    "    except:\n",
    "        try:\n",
    "            team_elos[season][team] = round(1 / 2 * team_elos[season - 1][team]) + 1 / 2 * 1496\n",
    "            return team_elos[season][team]\n",
    "        except:\n",
    "            return 1500"
   ]
  },
  {
   "cell_type": "markdown",
   "metadata": {},
   "source": [
    "We are now able to set all of the elos."
   ]
  },
  {
   "cell_type": "code",
   "execution_count": 21,
   "metadata": {
    "collapsed": true
   },
   "outputs": [],
   "source": [
    "df[\"Welo\"] = 0\n",
    "df[\"Lelo\"] = 0\n",
    "for season in range(2003, 2018):\n",
    "    team_elos[season] = {}\n",
    "for index, row in df.iterrows():\n",
    "        w_team = int(row[\"Wteam\"])\n",
    "        l_team = int(row[\"Lteam\"])\n",
    "        season = int(row[\"Season\"])\n",
    "        w_elo = get_elo(season, w_team)\n",
    "        l_elo = get_elo(season, l_team)\n",
    "        df.set_value(index, \"Welo\", w_elo)\n",
    "        df.set_value(index, \"Lelo\", l_elo)\n",
    "        w_elo, l_elo = calc_elo(w_elo, l_elo)\n",
    "        team_elos[season][w_team] = w_elo\n",
    "        team_elos[season][l_team] = l_elo"
   ]
  },
  {
   "cell_type": "markdown",
   "metadata": {},
   "source": [
    "For fun, let's find what team has the best elo in our data."
   ]
  },
  {
   "cell_type": "code",
   "execution_count": 22,
   "metadata": {},
   "outputs": [
    {
     "data": {
      "text/html": [
       "<div>\n",
       "<style>\n",
       "    .dataframe thead tr:only-child th {\n",
       "        text-align: right;\n",
       "    }\n",
       "\n",
       "    .dataframe thead th {\n",
       "        text-align: left;\n",
       "    }\n",
       "\n",
       "    .dataframe tbody tr th {\n",
       "        vertical-align: top;\n",
       "    }\n",
       "</style>\n",
       "<table border=\"1\" class=\"dataframe\">\n",
       "  <thead>\n",
       "    <tr style=\"text-align: right;\">\n",
       "      <th></th>\n",
       "      <th>Season</th>\n",
       "      <th>Daynum</th>\n",
       "      <th>Wteam</th>\n",
       "      <th>Wscore</th>\n",
       "      <th>Lteam</th>\n",
       "      <th>Lscore</th>\n",
       "      <th>Wloc</th>\n",
       "      <th>Numot</th>\n",
       "      <th>Wfgm</th>\n",
       "      <th>Wfga</th>\n",
       "      <th>...</th>\n",
       "      <th>LastAvg</th>\n",
       "      <th>LtoAvg</th>\n",
       "      <th>LstlAvg</th>\n",
       "      <th>LblkAvg</th>\n",
       "      <th>LpfAvg</th>\n",
       "      <th>LefgAvg</th>\n",
       "      <th>LortgAvg</th>\n",
       "      <th>LdrtgAvg</th>\n",
       "      <th>LpaceAvg</th>\n",
       "      <th>Lelo</th>\n",
       "    </tr>\n",
       "  </thead>\n",
       "  <tbody>\n",
       "    <tr>\n",
       "      <th>65868</th>\n",
       "      <td>2015</td>\n",
       "      <td>132</td>\n",
       "      <td>1246</td>\n",
       "      <td>78</td>\n",
       "      <td>1116</td>\n",
       "      <td>63</td>\n",
       "      <td>N</td>\n",
       "      <td>0</td>\n",
       "      <td>25</td>\n",
       "      <td>49</td>\n",
       "      <td>...</td>\n",
       "      <td>0</td>\n",
       "      <td>0</td>\n",
       "      <td>0</td>\n",
       "      <td>0</td>\n",
       "      <td>0</td>\n",
       "      <td>0</td>\n",
       "      <td>0</td>\n",
       "      <td>0</td>\n",
       "      <td>0</td>\n",
       "      <td>1672</td>\n",
       "    </tr>\n",
       "  </tbody>\n",
       "</table>\n",
       "<p>1 rows × 78 columns</p>\n",
       "</div>"
      ],
      "text/plain": [
       "       Season  Daynum  Wteam  Wscore  Lteam  Lscore Wloc  Numot  Wfgm  Wfga  \\\n",
       "65868    2015     132   1246      78   1116      63    N      0    25    49   \n",
       "\n",
       "       ...   LastAvg  LtoAvg  LstlAvg  LblkAvg  LpfAvg  LefgAvg  LortgAvg  \\\n",
       "65868  ...         0       0        0        0       0        0         0   \n",
       "\n",
       "       LdrtgAvg  LpaceAvg  Lelo  \n",
       "65868         0         0  1672  \n",
       "\n",
       "[1 rows x 78 columns]"
      ]
     },
     "execution_count": 22,
     "metadata": {},
     "output_type": "execute_result"
    }
   ],
   "source": [
    "df.iloc[[df[\"Welo\"].idxmax()]]"
   ]
  },
  {
   "cell_type": "markdown",
   "metadata": {},
   "source": [
    "This is the 2015 Kentucky Wildcats, one of the best regular-season teams of recent memory. As of right now, our elo rating seems to be adequate. Finally, to complete our aggregate stores, we just need to find a way to average and save the statistics for every game. We need to choose some sort of benchmark number of games to use to caclculate the running average. I will start off with 10 as that number, but can change it later on when tweaking the model."
   ]
  },
  {
   "cell_type": "code",
   "execution_count": 23,
   "metadata": {},
   "outputs": [],
   "source": [
    "AVG_COUNT = 10\n",
    "# We don't want elo scores in our list of averaged stats, so let's remove it from the list.\n",
    "all_stats.remove(\"elo\")\n",
    "for season in range(2003, 2018):\n",
    "    for team in range(1100, 1465):\n",
    "        team_data = df[(df[\"Wteam\"] == team) | (df[\"Lteam\"] == team)]\n",
    "        team_data = team_data[team_data[\"Season\"] == season]\n",
    "        for stat in all_stats:\n",
    "            stat_list = []\n",
    "            for index, row in team_data.iterrows():\n",
    "                if team_data.get_value(index, \"Wteam\") == team:\n",
    "                    win_char = \"W\"\n",
    "                else:\n",
    "                    win_char = \"L\"\n",
    "                stat_list.append(team_data.get_value(index, win_char + stat))\n",
    "                if len(stat_list) > AVG_COUNT:\n",
    "                    stat_list.pop(0)\n",
    "                    stat_avg = sum(stat_list)/len(stat_list)\n",
    "                    df.loc[index, win_char + stat + \"Avg\"] = stat_avg     "
   ]
  },
  {
   "cell_type": "code",
   "execution_count": 24,
   "metadata": {},
   "outputs": [
    {
     "data": {
      "text/html": [
       "<div>\n",
       "<style>\n",
       "    .dataframe thead tr:only-child th {\n",
       "        text-align: right;\n",
       "    }\n",
       "\n",
       "    .dataframe thead th {\n",
       "        text-align: left;\n",
       "    }\n",
       "\n",
       "    .dataframe tbody tr th {\n",
       "        vertical-align: top;\n",
       "    }\n",
       "</style>\n",
       "<table border=\"1\" class=\"dataframe\">\n",
       "  <thead>\n",
       "    <tr style=\"text-align: right;\">\n",
       "      <th></th>\n",
       "      <th>Season</th>\n",
       "      <th>Daynum</th>\n",
       "      <th>Wteam</th>\n",
       "      <th>Wscore</th>\n",
       "      <th>Lteam</th>\n",
       "      <th>Lscore</th>\n",
       "      <th>Wloc</th>\n",
       "      <th>Numot</th>\n",
       "      <th>Wfgm</th>\n",
       "      <th>Wfga</th>\n",
       "      <th>...</th>\n",
       "      <th>LastAvg</th>\n",
       "      <th>LtoAvg</th>\n",
       "      <th>LstlAvg</th>\n",
       "      <th>LblkAvg</th>\n",
       "      <th>LpfAvg</th>\n",
       "      <th>LefgAvg</th>\n",
       "      <th>LortgAvg</th>\n",
       "      <th>LdrtgAvg</th>\n",
       "      <th>LpaceAvg</th>\n",
       "      <th>Lelo</th>\n",
       "    </tr>\n",
       "  </thead>\n",
       "  <tbody>\n",
       "    <tr>\n",
       "      <th>0</th>\n",
       "      <td>2003</td>\n",
       "      <td>10</td>\n",
       "      <td>1104</td>\n",
       "      <td>68</td>\n",
       "      <td>1328</td>\n",
       "      <td>62</td>\n",
       "      <td>N</td>\n",
       "      <td>0</td>\n",
       "      <td>27</td>\n",
       "      <td>58</td>\n",
       "      <td>...</td>\n",
       "      <td>0.0</td>\n",
       "      <td>0.0</td>\n",
       "      <td>0.0</td>\n",
       "      <td>0.0</td>\n",
       "      <td>0.0</td>\n",
       "      <td>0.0</td>\n",
       "      <td>0.0</td>\n",
       "      <td>0.0</td>\n",
       "      <td>0.0</td>\n",
       "      <td>1500</td>\n",
       "    </tr>\n",
       "    <tr>\n",
       "      <th>1</th>\n",
       "      <td>2003</td>\n",
       "      <td>10</td>\n",
       "      <td>1272</td>\n",
       "      <td>70</td>\n",
       "      <td>1393</td>\n",
       "      <td>63</td>\n",
       "      <td>N</td>\n",
       "      <td>0</td>\n",
       "      <td>26</td>\n",
       "      <td>62</td>\n",
       "      <td>...</td>\n",
       "      <td>0.0</td>\n",
       "      <td>0.0</td>\n",
       "      <td>0.0</td>\n",
       "      <td>0.0</td>\n",
       "      <td>0.0</td>\n",
       "      <td>0.0</td>\n",
       "      <td>0.0</td>\n",
       "      <td>0.0</td>\n",
       "      <td>0.0</td>\n",
       "      <td>1500</td>\n",
       "    </tr>\n",
       "    <tr>\n",
       "      <th>2</th>\n",
       "      <td>2003</td>\n",
       "      <td>11</td>\n",
       "      <td>1266</td>\n",
       "      <td>73</td>\n",
       "      <td>1437</td>\n",
       "      <td>61</td>\n",
       "      <td>N</td>\n",
       "      <td>0</td>\n",
       "      <td>24</td>\n",
       "      <td>58</td>\n",
       "      <td>...</td>\n",
       "      <td>0.0</td>\n",
       "      <td>0.0</td>\n",
       "      <td>0.0</td>\n",
       "      <td>0.0</td>\n",
       "      <td>0.0</td>\n",
       "      <td>0.0</td>\n",
       "      <td>0.0</td>\n",
       "      <td>0.0</td>\n",
       "      <td>0.0</td>\n",
       "      <td>1500</td>\n",
       "    </tr>\n",
       "    <tr>\n",
       "      <th>3</th>\n",
       "      <td>2003</td>\n",
       "      <td>11</td>\n",
       "      <td>1296</td>\n",
       "      <td>56</td>\n",
       "      <td>1457</td>\n",
       "      <td>50</td>\n",
       "      <td>N</td>\n",
       "      <td>0</td>\n",
       "      <td>18</td>\n",
       "      <td>38</td>\n",
       "      <td>...</td>\n",
       "      <td>0.0</td>\n",
       "      <td>0.0</td>\n",
       "      <td>0.0</td>\n",
       "      <td>0.0</td>\n",
       "      <td>0.0</td>\n",
       "      <td>0.0</td>\n",
       "      <td>0.0</td>\n",
       "      <td>0.0</td>\n",
       "      <td>0.0</td>\n",
       "      <td>1500</td>\n",
       "    </tr>\n",
       "    <tr>\n",
       "      <th>4</th>\n",
       "      <td>2003</td>\n",
       "      <td>11</td>\n",
       "      <td>1400</td>\n",
       "      <td>77</td>\n",
       "      <td>1208</td>\n",
       "      <td>71</td>\n",
       "      <td>N</td>\n",
       "      <td>0</td>\n",
       "      <td>30</td>\n",
       "      <td>61</td>\n",
       "      <td>...</td>\n",
       "      <td>0.0</td>\n",
       "      <td>0.0</td>\n",
       "      <td>0.0</td>\n",
       "      <td>0.0</td>\n",
       "      <td>0.0</td>\n",
       "      <td>0.0</td>\n",
       "      <td>0.0</td>\n",
       "      <td>0.0</td>\n",
       "      <td>0.0</td>\n",
       "      <td>1500</td>\n",
       "    </tr>\n",
       "  </tbody>\n",
       "</table>\n",
       "<p>5 rows × 78 columns</p>\n",
       "</div>"
      ],
      "text/plain": [
       "   Season  Daynum  Wteam  Wscore  Lteam  Lscore Wloc  Numot  Wfgm  Wfga  ...   \\\n",
       "0    2003      10   1104      68   1328      62    N      0    27    58  ...    \n",
       "1    2003      10   1272      70   1393      63    N      0    26    62  ...    \n",
       "2    2003      11   1266      73   1437      61    N      0    24    58  ...    \n",
       "3    2003      11   1296      56   1457      50    N      0    18    38  ...    \n",
       "4    2003      11   1400      77   1208      71    N      0    30    61  ...    \n",
       "\n",
       "   LastAvg  LtoAvg  LstlAvg  LblkAvg  LpfAvg  LefgAvg  LortgAvg  LdrtgAvg  \\\n",
       "0      0.0     0.0      0.0      0.0     0.0      0.0       0.0       0.0   \n",
       "1      0.0     0.0      0.0      0.0     0.0      0.0       0.0       0.0   \n",
       "2      0.0     0.0      0.0      0.0     0.0      0.0       0.0       0.0   \n",
       "3      0.0     0.0      0.0      0.0     0.0      0.0       0.0       0.0   \n",
       "4      0.0     0.0      0.0      0.0     0.0      0.0       0.0       0.0   \n",
       "\n",
       "   LpaceAvg  Lelo  \n",
       "0       0.0  1500  \n",
       "1       0.0  1500  \n",
       "2       0.0  1500  \n",
       "3       0.0  1500  \n",
       "4       0.0  1500  \n",
       "\n",
       "[5 rows x 78 columns]"
      ]
     },
     "execution_count": 24,
     "metadata": {},
     "output_type": "execute_result"
    }
   ],
   "source": [
    "df.head()"
   ]
  },
  {
   "cell_type": "markdown",
   "metadata": {},
   "source": [
    "Notice that the first ten games for each team for each season have zeros for the statistics. We thus need to drop these games from our final averaged results. To do so, we just need to select all rows such that some stat's averages are valid numbers."
   ]
  },
  {
   "cell_type": "code",
   "execution_count": 25,
   "metadata": {},
   "outputs": [],
   "source": [
    "parsed_data = df[(df[\"WfgaAvg\"] != 0) & (df[\"LfgaAvg\"] != 0)]"
   ]
  },
  {
   "cell_type": "code",
   "execution_count": 26,
   "metadata": {},
   "outputs": [
    {
     "data": {
      "text/html": [
       "<div>\n",
       "<style>\n",
       "    .dataframe thead tr:only-child th {\n",
       "        text-align: right;\n",
       "    }\n",
       "\n",
       "    .dataframe thead th {\n",
       "        text-align: left;\n",
       "    }\n",
       "\n",
       "    .dataframe tbody tr th {\n",
       "        vertical-align: top;\n",
       "    }\n",
       "</style>\n",
       "<table border=\"1\" class=\"dataframe\">\n",
       "  <thead>\n",
       "    <tr style=\"text-align: right;\">\n",
       "      <th></th>\n",
       "      <th>Season</th>\n",
       "      <th>Daynum</th>\n",
       "      <th>Wteam</th>\n",
       "      <th>Wscore</th>\n",
       "      <th>Lteam</th>\n",
       "      <th>Lscore</th>\n",
       "      <th>Wloc</th>\n",
       "      <th>Numot</th>\n",
       "      <th>Wfgm</th>\n",
       "      <th>Wfga</th>\n",
       "      <th>...</th>\n",
       "      <th>LastAvg</th>\n",
       "      <th>LtoAvg</th>\n",
       "      <th>LstlAvg</th>\n",
       "      <th>LblkAvg</th>\n",
       "      <th>LpfAvg</th>\n",
       "      <th>LefgAvg</th>\n",
       "      <th>LortgAvg</th>\n",
       "      <th>LdrtgAvg</th>\n",
       "      <th>LpaceAvg</th>\n",
       "      <th>Lelo</th>\n",
       "    </tr>\n",
       "  </thead>\n",
       "  <tbody>\n",
       "    <tr>\n",
       "      <th>1297</th>\n",
       "      <td>2003</td>\n",
       "      <td>54</td>\n",
       "      <td>1182</td>\n",
       "      <td>71</td>\n",
       "      <td>1198</td>\n",
       "      <td>68</td>\n",
       "      <td>A</td>\n",
       "      <td>1</td>\n",
       "      <td>27</td>\n",
       "      <td>56</td>\n",
       "      <td>...</td>\n",
       "      <td>10.2</td>\n",
       "      <td>18.8</td>\n",
       "      <td>9.3</td>\n",
       "      <td>2.7</td>\n",
       "      <td>19.8</td>\n",
       "      <td>0.448533</td>\n",
       "      <td>89.090745</td>\n",
       "      <td>102.665032</td>\n",
       "      <td>67.659421</td>\n",
       "      <td>1478</td>\n",
       "    </tr>\n",
       "    <tr>\n",
       "      <th>1335</th>\n",
       "      <td>2003</td>\n",
       "      <td>54</td>\n",
       "      <td>1337</td>\n",
       "      <td>116</td>\n",
       "      <td>1114</td>\n",
       "      <td>110</td>\n",
       "      <td>N</td>\n",
       "      <td>2</td>\n",
       "      <td>41</td>\n",
       "      <td>84</td>\n",
       "      <td>...</td>\n",
       "      <td>13.5</td>\n",
       "      <td>17.7</td>\n",
       "      <td>6.9</td>\n",
       "      <td>3.0</td>\n",
       "      <td>18.7</td>\n",
       "      <td>0.541350</td>\n",
       "      <td>103.058254</td>\n",
       "      <td>109.588386</td>\n",
       "      <td>69.476500</td>\n",
       "      <td>1517</td>\n",
       "    </tr>\n",
       "    <tr>\n",
       "      <th>1355</th>\n",
       "      <td>2003</td>\n",
       "      <td>54</td>\n",
       "      <td>1390</td>\n",
       "      <td>81</td>\n",
       "      <td>1211</td>\n",
       "      <td>71</td>\n",
       "      <td>N</td>\n",
       "      <td>0</td>\n",
       "      <td>29</td>\n",
       "      <td>57</td>\n",
       "      <td>...</td>\n",
       "      <td>16.6</td>\n",
       "      <td>15.7</td>\n",
       "      <td>5.1</td>\n",
       "      <td>3.5</td>\n",
       "      <td>18.6</td>\n",
       "      <td>0.543031</td>\n",
       "      <td>111.970235</td>\n",
       "      <td>116.432606</td>\n",
       "      <td>69.981853</td>\n",
       "      <td>1545</td>\n",
       "    </tr>\n",
       "    <tr>\n",
       "      <th>1383</th>\n",
       "      <td>2003</td>\n",
       "      <td>55</td>\n",
       "      <td>1160</td>\n",
       "      <td>76</td>\n",
       "      <td>1260</td>\n",
       "      <td>72</td>\n",
       "      <td>N</td>\n",
       "      <td>0</td>\n",
       "      <td>27</td>\n",
       "      <td>55</td>\n",
       "      <td>...</td>\n",
       "      <td>12.9</td>\n",
       "      <td>13.9</td>\n",
       "      <td>7.4</td>\n",
       "      <td>3.2</td>\n",
       "      <td>22.5</td>\n",
       "      <td>0.470060</td>\n",
       "      <td>102.042134</td>\n",
       "      <td>115.081433</td>\n",
       "      <td>72.342199</td>\n",
       "      <td>1472</td>\n",
       "    </tr>\n",
       "    <tr>\n",
       "      <th>1407</th>\n",
       "      <td>2003</td>\n",
       "      <td>56</td>\n",
       "      <td>1108</td>\n",
       "      <td>74</td>\n",
       "      <td>1410</td>\n",
       "      <td>56</td>\n",
       "      <td>N</td>\n",
       "      <td>0</td>\n",
       "      <td>28</td>\n",
       "      <td>50</td>\n",
       "      <td>...</td>\n",
       "      <td>10.3</td>\n",
       "      <td>14.8</td>\n",
       "      <td>8.4</td>\n",
       "      <td>1.4</td>\n",
       "      <td>17.7</td>\n",
       "      <td>0.389098</td>\n",
       "      <td>85.551340</td>\n",
       "      <td>107.931222</td>\n",
       "      <td>63.999786</td>\n",
       "      <td>1429</td>\n",
       "    </tr>\n",
       "  </tbody>\n",
       "</table>\n",
       "<p>5 rows × 78 columns</p>\n",
       "</div>"
      ],
      "text/plain": [
       "      Season  Daynum  Wteam  Wscore  Lteam  Lscore Wloc  Numot  Wfgm  Wfga  \\\n",
       "1297    2003      54   1182      71   1198      68    A      1    27    56   \n",
       "1335    2003      54   1337     116   1114     110    N      2    41    84   \n",
       "1355    2003      54   1390      81   1211      71    N      0    29    57   \n",
       "1383    2003      55   1160      76   1260      72    N      0    27    55   \n",
       "1407    2003      56   1108      74   1410      56    N      0    28    50   \n",
       "\n",
       "      ...   LastAvg  LtoAvg  LstlAvg  LblkAvg  LpfAvg   LefgAvg    LortgAvg  \\\n",
       "1297  ...      10.2    18.8      9.3      2.7    19.8  0.448533   89.090745   \n",
       "1335  ...      13.5    17.7      6.9      3.0    18.7  0.541350  103.058254   \n",
       "1355  ...      16.6    15.7      5.1      3.5    18.6  0.543031  111.970235   \n",
       "1383  ...      12.9    13.9      7.4      3.2    22.5  0.470060  102.042134   \n",
       "1407  ...      10.3    14.8      8.4      1.4    17.7  0.389098   85.551340   \n",
       "\n",
       "        LdrtgAvg   LpaceAvg  Lelo  \n",
       "1297  102.665032  67.659421  1478  \n",
       "1335  109.588386  69.476500  1517  \n",
       "1355  116.432606  69.981853  1545  \n",
       "1383  115.081433  72.342199  1472  \n",
       "1407  107.931222  63.999786  1429  \n",
       "\n",
       "[5 rows x 78 columns]"
      ]
     },
     "execution_count": 26,
     "metadata": {},
     "output_type": "execute_result"
    }
   ],
   "source": [
    "parsed_data.head()"
   ]
  },
  {
   "cell_type": "markdown",
   "metadata": {},
   "source": [
    "As can be seen, all of our statistics are now valid, so we can now write it to a file and save it."
   ]
  },
  {
   "cell_type": "code",
   "execution_count": 27,
   "metadata": {
    "collapsed": true
   },
   "outputs": [],
   "source": [
    "df.to_csv(\"data/averaged_data.csv\" index=False)"
   ]
  },
  {
   "cell_type": "markdown",
   "metadata": {},
   "source": [
    "This concludes the initial part of our data analysis; from this point on, we will not be creating any more features, and will instead move on into the direct analysis and prediction part of our project. To summarize, up to this point, we have:\n",
    "\n",
    "1. Defined advanced statistics and wrote implementations for them\n",
    "2. Used those statistics to generate more features from the initial data given to us.\n",
    "3. Parsed the data and presented it in a way that will be accessible to our prediction model.\n",
    "\n",
    "In the next part, I will pick up from where I left off, and go through my initial steps in forming a simple prediction model. "
   ]
  }
 ],
 "metadata": {
  "kernelspec": {
   "display_name": "Python 3",
   "language": "python",
   "name": "python3"
  },
  "language_info": {
   "codemirror_mode": {
    "name": "ipython",
    "version": 3
   },
   "file_extension": ".py",
   "mimetype": "text/x-python",
   "name": "python",
   "nbconvert_exporter": "python",
   "pygments_lexer": "ipython3",
   "version": "3.6.1"
  },
  "widgets": {
   "application/vnd.jupyter.widget-state+json": {
    "state": {
     "02ea2ce941024d04bd7509b1457bec05": {
      "model_module": "jupyter-js-widgets",
      "model_module_version": "~2.1.4",
      "model_name": "ButtonStyleModel",
      "state": {
       "_model_module_version": "~2.1.4",
       "_view_module_version": "~2.1.4"
      }
     },
     "03ee3fad56304a53ad7bcb90ba4dc049": {
      "model_module": "jupyter-js-widgets",
      "model_module_version": "~2.1.4",
      "model_name": "LayoutModel",
      "state": {
       "_model_module_version": "~2.1.4",
       "_view_module_version": "~2.1.4"
      }
     },
     "0d6ca48d67264f218dc9edb146e8bbaf": {
      "model_module": "jupyter-js-widgets",
      "model_module_version": "~2.1.4",
      "model_name": "LayoutModel",
      "state": {
       "_model_module_version": "~2.1.4",
       "_view_module_version": "~2.1.4"
      }
     },
     "0e21b0dbea15408c93b09402572f0a7a": {
      "model_module": "jupyter-js-widgets",
      "model_module_version": "~2.1.4",
      "model_name": "LayoutModel",
      "state": {
       "_model_module_version": "~2.1.4",
       "_view_module_version": "~2.1.4"
      }
     },
     "16d54d2cdf284ff5b39d57008c202d1b": {
      "model_module": "jupyter-js-widgets",
      "model_module_version": "~2.1.4",
      "model_name": "LayoutModel",
      "state": {
       "_model_module_version": "~2.1.4",
       "_view_module_version": "~2.1.4"
      }
     },
     "19d2ffc7850b48d081ac634d251875ae": {
      "model_module": "jupyter-js-widgets",
      "model_module_version": "~2.1.4",
      "model_name": "ButtonStyleModel",
      "state": {
       "_model_module_version": "~2.1.4",
       "_view_module_version": "~2.1.4"
      }
     },
     "25d47070489746a3b0c48069e46b34f1": {
      "model_module": "jupyter-js-widgets",
      "model_module_version": "~2.1.4",
      "model_name": "LayoutModel",
      "state": {
       "_model_module_version": "~2.1.4",
       "_view_module_version": "~2.1.4"
      }
     },
     "2af17bab59aa4dd68a1b4169c7afd392": {
      "model_module": "jupyter-js-widgets",
      "model_module_version": "~2.1.4",
      "model_name": "TextModel",
      "state": {
       "_model_module_version": "~2.1.4",
       "_view_module_version": "~2.1.4",
       "description": "Team 1 Elo: ",
       "layout": "IPY_MODEL_fce8a976cbc04ad8b6fbf04ad0def5ab"
      }
     },
     "3046706ee6e64d47931025a5de8e0d59": {
      "model_module": "jupyter-js-widgets",
      "model_module_version": "~2.1.4",
      "model_name": "TextModel",
      "state": {
       "_model_module_version": "~2.1.4",
       "_view_module_version": "~2.1.4",
       "description": "Team 1 Elo: ",
       "layout": "IPY_MODEL_9a36a1365e214b5fa09c097571f57bed"
      }
     },
     "36eb6f61a5ce46deb0d14b1fa2db6f09": {
      "model_module": "jupyter-js-widgets",
      "model_module_version": "~2.1.4",
      "model_name": "LayoutModel",
      "state": {
       "_model_module_version": "~2.1.4",
       "_view_module_version": "~2.1.4"
      }
     },
     "3c6e6015d6d54416aae285c5856d326d": {
      "model_module": "jupyter-js-widgets",
      "model_module_version": "~2.1.4",
      "model_name": "TextModel",
      "state": {
       "_model_module_version": "~2.1.4",
       "_view_module_version": "~2.1.4",
       "description": "Team 2 Elo: ",
       "layout": "IPY_MODEL_25d47070489746a3b0c48069e46b34f1"
      }
     },
     "538448290dd04f369d760fe8ad012894": {
      "model_module": "jupyter-js-widgets",
      "model_module_version": "~2.1.4",
      "model_name": "TextModel",
      "state": {
       "_model_module_version": "~2.1.4",
       "_view_module_version": "~2.1.4",
       "description": "Team 2 Elo: ",
       "layout": "IPY_MODEL_0e21b0dbea15408c93b09402572f0a7a"
      }
     },
     "6831eb8d9f024eb6b93c585cafeeeee7": {
      "model_module": "jupyter-js-widgets",
      "model_module_version": "~2.1.4",
      "model_name": "LayoutModel",
      "state": {
       "_model_module_version": "~2.1.4",
       "_view_module_version": "~2.1.4"
      }
     },
     "691f8e81c2c64cd6ac0e8bfec3616247": {
      "model_module": "jupyter-js-widgets",
      "model_module_version": "~2.1.4",
      "model_name": "TextModel",
      "state": {
       "_model_module_version": "~2.1.4",
       "_view_module_version": "~2.1.4",
       "description": "Team 2 Elo: ",
       "layout": "IPY_MODEL_36eb6f61a5ce46deb0d14b1fa2db6f09"
      }
     },
     "6cb927fc90524d77895c37693ec5d9eb": {
      "model_module": "jupyter-js-widgets",
      "model_module_version": "~2.1.4",
      "model_name": "LayoutModel",
      "state": {
       "_model_module_version": "~2.1.4",
       "_view_module_version": "~2.1.4"
      }
     },
     "72465d84393943f185d21d78d7fff426": {
      "model_module": "jupyter-js-widgets",
      "model_module_version": "~2.1.4",
      "model_name": "ButtonModel",
      "state": {
       "_model_module_version": "~2.1.4",
       "_view_module_version": "~2.1.4",
       "description": "Submit",
       "layout": "IPY_MODEL_ab495f960ff84c4fa463c1888117c19c",
       "style": "IPY_MODEL_19d2ffc7850b48d081ac634d251875ae"
      }
     },
     "726b955508dc460fa48585d31244b696": {
      "model_module": "jupyter-js-widgets",
      "model_module_version": "~2.1.4",
      "model_name": "ButtonStyleModel",
      "state": {
       "_model_module_version": "~2.1.4",
       "_view_module_version": "~2.1.4"
      }
     },
     "7647fe9ce13547f39e4e5e04e98fef19": {
      "model_module": "jupyter-js-widgets",
      "model_module_version": "~2.1.4",
      "model_name": "TextModel",
      "state": {
       "_model_module_version": "~2.1.4",
       "_view_module_version": "~2.1.4",
       "description": "Team 2 Elo: ",
       "layout": "IPY_MODEL_6cb927fc90524d77895c37693ec5d9eb"
      }
     },
     "80b5ffb5246f4b8fbc5fa9926031f59a": {
      "model_module": "jupyter-js-widgets",
      "model_module_version": "~2.1.4",
      "model_name": "ButtonModel",
      "state": {
       "_model_module_version": "~2.1.4",
       "_view_module_version": "~2.1.4",
       "description": "Submit",
       "layout": "IPY_MODEL_ce260b5eebc74d8dbb3646fa3e400228",
       "style": "IPY_MODEL_02ea2ce941024d04bd7509b1457bec05"
      }
     },
     "80cbd40c86414a7db06ce6079961c113": {
      "model_module": "jupyter-js-widgets",
      "model_module_version": "~2.1.4",
      "model_name": "TextModel",
      "state": {
       "_model_module_version": "~2.1.4",
       "_view_module_version": "~2.1.4",
       "description": "Team 1 Elo: ",
       "layout": "IPY_MODEL_03ee3fad56304a53ad7bcb90ba4dc049"
      }
     },
     "8e45df04a7da4c94a69f26aaa6d3c936": {
      "model_module": "jupyter-js-widgets",
      "model_module_version": "~2.1.4",
      "model_name": "ButtonStyleModel",
      "state": {
       "_model_module_version": "~2.1.4",
       "_view_module_version": "~2.1.4"
      }
     },
     "9a36a1365e214b5fa09c097571f57bed": {
      "model_module": "jupyter-js-widgets",
      "model_module_version": "~2.1.4",
      "model_name": "LayoutModel",
      "state": {
       "_model_module_version": "~2.1.4",
       "_view_module_version": "~2.1.4"
      }
     },
     "ab495f960ff84c4fa463c1888117c19c": {
      "model_module": "jupyter-js-widgets",
      "model_module_version": "~2.1.4",
      "model_name": "LayoutModel",
      "state": {
       "_model_module_version": "~2.1.4",
       "_view_module_version": "~2.1.4"
      }
     },
     "bd3f57e502ed482abd18658d73f8a5a0": {
      "model_module": "jupyter-js-widgets",
      "model_module_version": "~2.1.4",
      "model_name": "ButtonModel",
      "state": {
       "_model_module_version": "~2.1.4",
       "_view_module_version": "~2.1.4",
       "description": "Submit",
       "layout": "IPY_MODEL_16d54d2cdf284ff5b39d57008c202d1b",
       "style": "IPY_MODEL_8e45df04a7da4c94a69f26aaa6d3c936"
      }
     },
     "cb1137396e6143dd837bb071f4305062": {
      "model_module": "jupyter-js-widgets",
      "model_module_version": "~2.1.4",
      "model_name": "TextModel",
      "state": {
       "_model_module_version": "~2.1.4",
       "_view_module_version": "~2.1.4",
       "description": "Team 1 Elo: ",
       "layout": "IPY_MODEL_0d6ca48d67264f218dc9edb146e8bbaf"
      }
     },
     "ce260b5eebc74d8dbb3646fa3e400228": {
      "model_module": "jupyter-js-widgets",
      "model_module_version": "~2.1.4",
      "model_name": "LayoutModel",
      "state": {
       "_model_module_version": "~2.1.4",
       "_view_module_version": "~2.1.4"
      }
     },
     "d387e581f78940548dd65e7477697965": {
      "model_module": "jupyter-js-widgets",
      "model_module_version": "~2.1.4",
      "model_name": "ButtonModel",
      "state": {
       "_model_module_version": "~2.1.4",
       "_view_module_version": "~2.1.4",
       "description": "Submit",
       "layout": "IPY_MODEL_6831eb8d9f024eb6b93c585cafeeeee7",
       "style": "IPY_MODEL_726b955508dc460fa48585d31244b696"
      }
     },
     "fce8a976cbc04ad8b6fbf04ad0def5ab": {
      "model_module": "jupyter-js-widgets",
      "model_module_version": "~2.1.4",
      "model_name": "LayoutModel",
      "state": {
       "_model_module_version": "~2.1.4",
       "_view_module_version": "~2.1.4"
      }
     }
    },
    "version_major": 1,
    "version_minor": 0
   }
  }
 },
 "nbformat": 4,
 "nbformat_minor": 2
}
